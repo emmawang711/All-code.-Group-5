{
 "cells": [
  {
   "cell_type": "code",
   "execution_count": null,
   "metadata": {},
   "outputs": [],
   "source": [
    "from wordcloud import WordCloud\n",
    "import pandas as pd\n",
    "from imageio import imread\n",
    "import jieba\n",
    "import matplotlib.pyplot as plt\n",
    "from sklearn.feature_extraction.text import TfidfVectorizer\n",
    "import re\n",
    "\n",
    "def cut_words(file_content):\n",
    "    words = jieba.cut(file_content)\n",
    "    return ' '.join(words)\n",
    "\n",
    "with open(\"C:\\\\Users\\\\86130\\\\comments2016-2013.txt\", \"r\", encoding='UTF-8') as fin1:\n",
    "    file_content = fin1.read()\n",
    "    \n",
    "    def commment_pic(content):\n",
    "        # 分词并过滤英文字符\n",
    "        content = re.sub(r'[a-zA-Z]', '', content)\n",
    "        all_words = cut_words(content)  # 读取文本\n",
    "    \n",
    "        # 定义停用词\n",
    "        stop = [']','[','的','这个','一个','/','你', '了', ' ','是', '让', '在', '我', '也','呀','啊', '和', '都', '《', '》', '，', '看', '!', '什么', '怎么', '这么', '很', '给', '没有', '不是', '说', '不', '吗', '？', '！', '?', '。', '...']\n",
    "        \n",
    "        # 使用TfidfVectorizer计算TF-IDF分数\n",
    "        vectorizer = TfidfVectorizer(stop_words=stop)\n",
    "        tfidf_matrix = vectorizer.fit_transform([all_words])\n",
    "        tfidf_scores = dict(zip(vectorizer.get_feature_names(), tfidf_matrix.toarray()[0]))\n",
    "        \n",
    "        # 读取背景图片\n",
    "        back_ground = imread(\"C:\\\\Users\\\\86130\\\\云.jpg\")  # 自己定义图片位置\n",
    "        \n",
    "        # 创建词云对象并使用TF-IDF分数生成词云\n",
    "        wc = WordCloud(\n",
    "            font_path=\"C:\\\\Windows\\\\Fonts\\\\simhei.ttf\",  # 设置字体\n",
    "            background_color=\"white\",  # 设置词云背景颜色\n",
    "            max_words=100,  # 词云允许最大词汇数\n",
    "            mask=back_ground,  # 词云形状\n",
    "            max_font_size=400,  # 最大字体大小\n",
    "            random_state=90  # 配色方案的种数\n",
    "        )\n",
    "        \n",
    "        wc1 = wc.generate_from_frequencies(tfidf_scores)  # 生成词云\n",
    "        plt.figure()\n",
    "        plt.imshow(wc1)\n",
    "        plt.axis(\"off\")\n",
    "        plt.show()\n",
    "        wc.to_file(\"词云2016-2013.png\")\n",
    "        print('succeed！\\n')\n",
    "\n",
    "    commment_pic(file_content)"
   ]
  }
 ],
 "metadata": {
  "kernelspec": {
   "display_name": "Python 3",
   "language": "python",
   "name": "python3"
  },
  "language_info": {
   "codemirror_mode": {
    "name": "ipython",
    "version": 3
   },
   "file_extension": ".py",
   "mimetype": "text/x-python",
   "name": "python",
   "nbconvert_exporter": "python",
   "pygments_lexer": "ipython3",
   "version": "3.7.0"
  }
 },
 "nbformat": 4,
 "nbformat_minor": 2
}
