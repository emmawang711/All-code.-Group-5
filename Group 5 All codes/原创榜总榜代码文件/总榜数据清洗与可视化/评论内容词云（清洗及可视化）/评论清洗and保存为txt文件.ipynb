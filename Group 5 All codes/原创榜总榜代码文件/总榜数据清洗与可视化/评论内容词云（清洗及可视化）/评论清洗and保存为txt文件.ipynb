{
 "cells": [
  {
   "cell_type": "code",
   "execution_count": null,
   "metadata": {},
   "outputs": [],
   "source": [
    "\n",
    "import pandas as pd\n",
    "\n",
    "# 读取CSV文件中的数据\n",
    "data = pd.read_csv('2016-2013.csv', header=None, names=['nickname', 'age', 'gender', 'comment', 'comment_id', 'like_count', 'comment_time'], encoding='utf-8-sig')\n",
    "# 去除comments列的空值和重复值\n",
    "data = data.dropna(subset=['comment']).drop_duplicates(subset=['comment'])\n",
    "\n",
    "# 选择要转换为TXT格式的列（例如 'comment' 列）\n",
    "column_data = data['comment']\n",
    "\n",
    "# 将列数据转换为单个字符串，不包含换行符\n",
    "column_text = ' '.join(column_data.astype(str).tolist())\n",
    "\n",
    "# 将字符串保存到TXT文件\n",
    "with open('comments2016-2013.txt', 'w', encoding='utf-8') as f:\n",
    "    f.write(column_text)\n",
    "\n",
    "print('列数据已成功转换为comments.txt文件，并且不包含换行符。')"
   ]
  }
 ],
 "metadata": {
  "kernelspec": {
   "display_name": "Python 3",
   "language": "python",
   "name": "python3"
  },
  "language_info": {
   "codemirror_mode": {
    "name": "ipython",
    "version": 3
   },
   "file_extension": ".py",
   "mimetype": "text/x-python",
   "name": "python",
   "nbconvert_exporter": "python",
   "pygments_lexer": "ipython3",
   "version": "3.7.0"
  }
 },
 "nbformat": 4,
 "nbformat_minor": 2
}
