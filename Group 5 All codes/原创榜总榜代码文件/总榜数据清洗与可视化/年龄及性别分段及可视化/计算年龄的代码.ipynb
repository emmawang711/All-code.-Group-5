{
 "cells": [
  {
   "cell_type": "code",
   "execution_count": 29,
   "metadata": {},
   "outputs": [],
   "source": [
    "import pandas as pd"
   ]
  },
  {
   "cell_type": "code",
   "execution_count": 30,
   "metadata": {},
   "outputs": [],
   "source": [
    "from pyecharts.charts import Bar"
   ]
  },
  {
   "cell_type": "code",
   "execution_count": 31,
   "metadata": {},
   "outputs": [],
   "source": [
    "from pyecharts import options as opts"
   ]
  },
  {
   "cell_type": "code",
   "execution_count": 32,
   "metadata": {},
   "outputs": [],
   "source": [
    "#读取数据\n",
    "df=pd.read_csv('e:\\Microsoft VS Code\\原创榜清理后的数据（年龄）.csv',header=0,names=['nickname','user_id','age','gender','city','signature','content','comment_id','like_count','comment_time'],encoding='utf-8-sig')"
   ]
  },
  {
   "cell_type": "code",
   "execution_count": 33,
   "metadata": {},
   "outputs": [
    {
     "name": "stdout",
     "output_type": "stream",
     "text": [
      "      nickname     user_id  age gender city  \\\n",
      "0    JGQS-极光秋霜  8157378323   11      2  苏州市   \n",
      "1    不会emo的小羊呀  8176369452   14      2  武汉市   \n",
      "2        蛋花-er  1805660897   25      0  福州市   \n",
      "3         浊上清心  1606387124   22      1   未知   \n",
      "4  张博闻YB-Focus  3934046010   15      1   未知   \n",
      "\n",
      "                                           signature  \\\n",
      "0                      副推一堆，全网同名，杂的一批：混兽圈、二次元、ch、绘圈等   \n",
      "1                                         坚持一个顾时夜原则！   \n",
      "2                                                NaN   \n",
      "3                                               浊上清心   \n",
      "4  张博闻2009年生于北京   曾就读于北京市十一学校龙樾实验中学 多次为学校制作毕业歌、铃声...   \n",
      "\n",
      "                                             content    comment_id like_count  \\\n",
      "0                                             乱破�[强]  7.455489e+09          1   \n",
      "1                                      咱世外也是上榜了啊[亲亲]  7.454919e+09          8   \n",
      "2                                     胡宇桐这首歌真的好抓耳[色]  7.450183e+09          3   \n",
      "3  浊上清心送您一张会员礼品卡，快来看看TA的祝福吧! 快来领取吧 https://music....  7.445528e+09          0   \n",
      "4                           22位 15岁初中生作词作曲！希望各位可以听听！  7.444526e+09          0   \n",
      "\n",
      "       comment_time  \n",
      "0   2024/11/9 20:51  \n",
      "1   2024/11/9 13:18  \n",
      "2    2024/11/2 0:31  \n",
      "3   2024/10/26 8:57  \n",
      "4  2024/10/24 17:48  \n",
      "163 invalid date entries\n",
      "         nickname  age        comment_time  corrected_age\n",
      "0       JGQS-极光秋霜   11 2024-11-09 20:51:00           11.0\n",
      "1       不会emo的小羊呀   14 2024-11-09 13:18:00           14.0\n",
      "2           蛋花-er   25 2024-11-02 00:31:00           25.0\n",
      "3            浊上清心   22 2024-10-26 08:57:00           22.0\n",
      "4     张博闻YB-Focus   15 2024-10-24 17:48:00           15.0\n",
      "...           ...  ...                 ...            ...\n",
      "3810         绝地舞士   34 2014-05-03 22:24:00           24.0\n",
      "3811        成为大财主   31 2013-07-28 06:15:00           20.0\n",
      "3812      支支吾吾的小猪   34 2013-07-27 15:21:00           23.0\n",
      "3813    听音乐然后思考人生   31 2013-07-26 07:33:00           20.0\n",
      "3814           褚乔   34 2013-07-25 18:39:00           23.0\n",
      "\n",
      "[3815 rows x 4 columns]\n"
     ]
    }
   ],
   "source": [
    "# 检查数据的前几行，确认 'comment_time' 列的格式\n",
    "print(df.head())\n",
    "\n",
    "# 将 'comment_time' 列转换为 datetime 格式，处理错误\n",
    "df['comment_time'] = pd.to_datetime(df['comment_time'], errors='coerce', format='%Y/%m/%d %H:%M')\n",
    "\n",
    "# 检查转换后的结果\n",
    "invalid_dates_count = df['comment_time'].isnull().sum()\n",
    "print(f\"{invalid_dates_count} invalid date entries\")\n",
    "\n",
    "# 计算正确的年龄\n",
    "# 确保 age 列是整数类型\n",
    "df['age'] = df['age'].astype(int)\n",
    "df['corrected_age'] = df['comment_time'].dt.year - (2024 - df['age'])\n",
    "\n",
    "# 显示结果\n",
    "print(df[['nickname', 'age', 'comment_time', 'corrected_age']])"
   ]
  },
  {
   "cell_type": "code",
   "execution_count": 34,
   "metadata": {},
   "outputs": [],
   "source": [
    "df.to_csv('original_age_data.csv', index=False, encoding='utf-8')"
   ]
  }
 ],
 "metadata": {
  "kernelspec": {
   "display_name": "Python 3",
   "language": "python",
   "name": "python3"
  },
  "language_info": {
   "codemirror_mode": {
    "name": "ipython",
    "version": 3
   },
   "file_extension": ".py",
   "mimetype": "text/x-python",
   "name": "python",
   "nbconvert_exporter": "python",
   "pygments_lexer": "ipython3",
   "version": "3.11.9"
  }
 },
 "nbformat": 4,
 "nbformat_minor": 2
}
