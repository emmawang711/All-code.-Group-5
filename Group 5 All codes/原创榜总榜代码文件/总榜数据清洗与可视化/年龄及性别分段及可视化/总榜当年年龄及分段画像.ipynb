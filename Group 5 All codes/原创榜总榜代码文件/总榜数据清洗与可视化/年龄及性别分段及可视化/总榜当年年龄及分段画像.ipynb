{
 "cells": [
  {
   "cell_type": "markdown",
   "metadata": {},
   "source": [
    "2013-2016用户年龄（当年）"
   ]
  },
  {
   "cell_type": "code",
   "execution_count": 1,
   "metadata": {},
   "outputs": [],
   "source": [
    "import pandas as pd\n",
    "from pyecharts.charts import Bar\n",
    "from pyecharts import options as opts\n",
    "from pyecharts import options as opts"
   ]
  },
  {
   "cell_type": "code",
   "execution_count": 3,
   "metadata": {},
   "outputs": [],
   "source": [
    "#读取数据\n",
    "data=pd.read_csv(r'C:\\Users\\XiLeo\\Desktop\\Soc Media Acqu\\5507 网易云原创榜 GROUP14\\5507 数据文件\\2013-2016年龄.csv', encoding='ANSI')"
   ]
  },
  {
   "cell_type": "code",
   "execution_count": 4,
   "metadata": {},
   "outputs": [],
   "source": [
    "data=data.drop_duplicates('comment_id')\n",
    "# 先将 age 列转换为数值型，如果有无法转换的值，会被设置为 NaN\n",
    "data['corrected_age'] = pd.to_numeric(data['corrected_age'], errors='coerce')\n",
    "#去除无年龄信息的\n",
    "data=data[data.corrected_age !=0]\n",
    "#筛选年龄10-55\n",
    "data = data[(data.corrected_age != 0) & (data.corrected_age >= 10) & (data.corrected_age <= 55)]\n",
    "#转换格式\n",
    "data['corrected_age']=pd.to_numeric(data['corrected_age'],errors='coerce')\n",
    "data=data.replace([0,1],[18,20])\n",
    "#分组汇总\n",
    "age_message=data.groupby(['corrected_age'])\n",
    "age_com=age_message['corrected_age'].agg(['count'])\n",
    "age_com.reset_index(inplace=True)"
   ]
  },
  {
   "cell_type": "code",
   "execution_count": 5,
   "metadata": {},
   "outputs": [
    {
     "data": {
      "text/plain": [
       "'C:\\\\Users\\\\XiLeo\\\\2013-2016年评论用户的年龄分布.html'"
      ]
     },
     "execution_count": 5,
     "metadata": {},
     "output_type": "execute_result"
    }
   ],
   "source": [
    "#生成柱状图\n",
    "attr=age_com['corrected_age'].tolist()#将series转换为列表\n",
    "v1=age_com['count'].tolist()\n",
    "bar=Bar()\n",
    "bar.add_xaxis(attr)#设置x轴\n",
    "bar.add_yaxis(\"评论人数\",v1,stack=\"stack1\")\n",
    "bar.set_global_opts(\n",
    "    title_opts=opts.TitleOpts(title=\"2013-2016年评论用户年龄分布\",pos_left='center',pos_top='18%'),\n",
    "    xaxis_opts=opts.AxisOpts(name='年龄'),\n",
    "    yaxis_opts=opts.AxisOpts(name='人数')\n",
    ")\n",
    "bar.render(\"2013-2016年评论用户的年龄分布.html\")"
   ]
  },
  {
   "cell_type": "markdown",
   "metadata": {},
   "source": [
    "2017-2020用户年龄（当年）"
   ]
  },
  {
   "cell_type": "code",
   "execution_count": 6,
   "metadata": {},
   "outputs": [],
   "source": [
    "#读取数据\n",
    "data=pd.read_csv(r'C:\\Users\\XiLeo\\Desktop\\Soc Media Acqu\\5507 网易云原创榜 GROUP14\\5507 数据文件\\2017-2020年龄.csv', encoding='ANSI')"
   ]
  },
  {
   "cell_type": "code",
   "execution_count": 7,
   "metadata": {},
   "outputs": [],
   "source": [
    "data=data.drop_duplicates('comment_id')\n",
    "# 先将 age 列转换为数值型，如果有无法转换的值，会被设置为 NaN\n",
    "data['corrected_age'] = pd.to_numeric(data['corrected_age'], errors='coerce')\n",
    "#去除无年龄信息的\n",
    "data=data[data.corrected_age !=0]\n",
    "#筛选年龄10-55\n",
    "data = data[(data.corrected_age != 0) & (data.corrected_age >= 10) & (data.corrected_age <= 55)]\n",
    "#转换格式\n",
    "data['corrected_age']=pd.to_numeric(data['corrected_age'],errors='coerce')\n",
    "data=data.replace([0,1],[18,20])\n",
    "#分组汇总\n",
    "age_message=data.groupby(['corrected_age'])\n",
    "age_com=age_message['corrected_age'].agg(['count'])\n",
    "age_com.reset_index(inplace=True)"
   ]
  },
  {
   "cell_type": "code",
   "execution_count": 8,
   "metadata": {},
   "outputs": [
    {
     "data": {
      "text/plain": [
       "'C:\\\\Users\\\\XiLeo\\\\2017-2020年评论用户的年龄分布.html'"
      ]
     },
     "execution_count": 8,
     "metadata": {},
     "output_type": "execute_result"
    }
   ],
   "source": [
    "#生成柱状图\n",
    "attr=age_com['corrected_age'].tolist()#将series转换为列表\n",
    "v1=age_com['count'].tolist()\n",
    "bar=Bar()\n",
    "bar.add_xaxis(attr)#设置x轴\n",
    "bar.add_yaxis(\"评论人数\",v1,stack=\"stack1\")\n",
    "bar.set_global_opts(\n",
    "    title_opts=opts.TitleOpts(title=\"2017-2020年评论用户年龄分布\",pos_left='center',pos_top='18%'),\n",
    "    xaxis_opts=opts.AxisOpts(name='年龄'),\n",
    "    yaxis_opts=opts.AxisOpts(name='人数')\n",
    ")\n",
    "bar.render(\"2017-2020年评论用户的年龄分布.html\")"
   ]
  },
  {
   "cell_type": "markdown",
   "metadata": {},
   "source": [
    "2021-2024用户年龄（当年）"
   ]
  },
  {
   "cell_type": "code",
   "execution_count": null,
   "metadata": {},
   "outputs": [],
   "source": [
    "#读取数据\n",
    "data=pd.read_csv(r'C:\\Users\\XiLeo\\Desktop\\Soc Media Acqu\\5507 网易云原创榜 GROUP14\\5507 数据文件\\2017-2020年龄.csv', encoding='ANSI')"
   ]
  },
  {
   "cell_type": "code",
   "execution_count": null,
   "metadata": {},
   "outputs": [],
   "source": [
    "data=data.drop_duplicates('comment_id')\n",
    "# 先将 age 列转换为数值型，如果有无法转换的值，会被设置为 NaN\n",
    "data['corrected_age'] = pd.to_numeric(data['corrected_age'], errors='coerce')\n",
    "#去除无年龄信息的\n",
    "data=data[data.corrected_age !=0]\n",
    "#筛选年龄10-55\n",
    "data = data[(data.corrected_age != 0) & (data.corrected_age >= 10) & (data.corrected_age <= 55)]\n",
    "#转换格式\n",
    "data['corrected_age']=pd.to_numeric(data['corrected_age'],errors='coerce')\n",
    "data=data.replace([0,1],[18,20])\n",
    "#分组汇总\n",
    "age_message=data.groupby(['corrected_age'])\n",
    "age_com=age_message['corrected_age'].agg(['count'])\n",
    "age_com.reset_index(inplace=True)"
   ]
  },
  {
   "cell_type": "code",
   "execution_count": null,
   "metadata": {},
   "outputs": [],
   "source": [
    "#生成柱状图\n",
    "attr=age_com['corrected_age'].tolist()#将series转换为列表\n",
    "v1=age_com['count'].tolist()\n",
    "bar=Bar()\n",
    "bar.add_xaxis(attr)#设置x轴\n",
    "bar.add_yaxis(\"评论人数\",v1,stack=\"stack1\")\n",
    "bar.set_global_opts(\n",
    "    title_opts=opts.TitleOpts(title=\"2021-2024年评论用户年龄分布\",pos_left='center',pos_top='18%'),\n",
    "    xaxis_opts=opts.AxisOpts(name='年龄'),\n",
    "    yaxis_opts=opts.AxisOpts(name='人数')\n",
    ")\n",
    "bar.render(\"2021-2024年评论用户的年龄分布.html\")"
   ]
  },
  {
   "cell_type": "markdown",
   "metadata": {},
   "source": [
    "总榜用户年龄（当年）"
   ]
  },
  {
   "cell_type": "code",
   "execution_count": 2,
   "metadata": {},
   "outputs": [],
   "source": [
    "#读取数据\n",
    "data=pd.read_csv('e:\\Microsoft VS Code\\original_age_data.csv',header=0,names=['nickname','user_id','age','gender','city','signature','content','comment_id','like_count','comment_time','corrected_age'],encoding='latin1')"
   ]
  },
  {
   "cell_type": "code",
   "execution_count": 3,
   "metadata": {},
   "outputs": [],
   "source": [
    "data=data.drop_duplicates('comment_id')\n",
    "# 先将 age 列转换为数值型，如果有无法转换的值，会被设置为 NaN\n",
    "data['corrected_age'] = pd.to_numeric(data['corrected_age'], errors='coerce')\n",
    "#去除无年龄信息的\n",
    "data=data[data.corrected_age !=0]\n",
    "#筛选年龄10-55\n",
    "data = data[(data.corrected_age != 0) & (data.corrected_age >= 10) & (data.corrected_age <= 55)]\n",
    "#转换格式\n",
    "data['corrected_age']=pd.to_numeric(data['corrected_age'],errors='coerce')\n",
    "data=data.replace([0,1],[18,20])\n",
    "#分组汇总\n",
    "age_message=data.groupby(['corrected_age'])\n",
    "age_com=age_message['corrected_age'].agg(['count'])\n",
    "age_com.reset_index(inplace=True)"
   ]
  },
  {
   "cell_type": "code",
   "execution_count": 4,
   "metadata": {},
   "outputs": [
    {
     "data": {
      "text/plain": [
       "'d:\\\\HuaweiMoveData\\\\Users\\\\mayuwen\\\\Desktop\\\\评论用户的年龄分布（当年）.html'"
      ]
     },
     "execution_count": 4,
     "metadata": {},
     "output_type": "execute_result"
    }
   ],
   "source": [
    "#生成柱状图\n",
    "attr=age_com['corrected_age'].tolist()#将series转换为列表\n",
    "v1=age_com['count'].tolist()\n",
    "bar=Bar()\n",
    "bar.add_xaxis(attr)#设置x轴\n",
    "bar.add_yaxis(\"评论人数\",v1,stack=\"stack1\")\n",
    "bar.set_global_opts(\n",
    "    title_opts=opts.TitleOpts(title=\"评论用户年龄分布（当年）\",pos_left='center',pos_top='18%'),\n",
    "    xaxis_opts=opts.AxisOpts(name='年龄'),\n",
    "    yaxis_opts=opts.AxisOpts(name='人数')\n",
    ")\n",
    "bar.render(\"评论用户的年龄分布（当年）.html\")"
   ]
  }
 ],
 "metadata": {
  "kernelspec": {
   "display_name": "Python 3 (ipykernel)",
   "language": "python",
   "name": "python3"
  },
  "language_info": {
   "codemirror_mode": {
    "name": "ipython",
    "version": 3
   },
   "file_extension": ".py",
   "mimetype": "text/x-python",
   "name": "python",
   "nbconvert_exporter": "python",
   "pygments_lexer": "ipython3",
   "version": "3.12.4"
  }
 },
 "nbformat": 4,
 "nbformat_minor": 4
}
