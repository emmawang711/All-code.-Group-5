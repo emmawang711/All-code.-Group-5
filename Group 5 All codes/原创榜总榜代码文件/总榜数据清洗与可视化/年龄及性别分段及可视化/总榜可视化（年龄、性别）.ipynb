{
 "cells": [
  {
   "cell_type": "code",
   "execution_count": null,
   "metadata": {},
   "outputs": [],
   "source": [
    "#数据清理\n",
    "import pandas as pd"
   ]
  },
  {
   "cell_type": "code",
   "execution_count": 5,
   "metadata": {},
   "outputs": [],
   "source": [
    "data=pd.read_csv('c:/Users/mayuwen/Documents/WeChat Files/wxid_a1n9lss309c222/FileStorage/File/2024-11/comments_data.csv',header=None,names=['name','userid','age','gender','city','text','comment','commentid','praise','date'],encoding='utf-8-sig')"
   ]
  },
  {
   "cell_type": "code",
   "execution_count": 6,
   "metadata": {},
   "outputs": [
    {
     "data": {
      "text/plain": [
       "0        False\n",
       "1        False\n",
       "2        False\n",
       "3        False\n",
       "4        False\n",
       "         ...  \n",
       "15203    False\n",
       "15204    False\n",
       "15205    False\n",
       "15206    False\n",
       "15207    False\n",
       "Length: 15208, dtype: bool"
      ]
     },
     "execution_count": 6,
     "metadata": {},
     "output_type": "execute_result"
    }
   ],
   "source": [
    "data.duplicated()#查看是否有重复值"
   ]
  },
  {
   "cell_type": "code",
   "execution_count": 7,
   "metadata": {},
   "outputs": [],
   "source": [
    "data=data.dropna()#去重复值"
   ]
  },
  {
   "cell_type": "code",
   "execution_count": 8,
   "metadata": {},
   "outputs": [],
   "source": [
    "data=data.dropna()#去空值"
   ]
  },
  {
   "cell_type": "code",
   "execution_count": 9,
   "metadata": {},
   "outputs": [
    {
     "data": {
      "text/html": [
       "<div>\n",
       "<style scoped>\n",
       "    .dataframe tbody tr th:only-of-type {\n",
       "        vertical-align: middle;\n",
       "    }\n",
       "\n",
       "    .dataframe tbody tr th {\n",
       "        vertical-align: top;\n",
       "    }\n",
       "\n",
       "    .dataframe thead th {\n",
       "        text-align: right;\n",
       "    }\n",
       "</style>\n",
       "<table border=\"1\" class=\"dataframe\">\n",
       "  <thead>\n",
       "    <tr style=\"text-align: right;\">\n",
       "      <th></th>\n",
       "      <th>name</th>\n",
       "      <th>userid</th>\n",
       "      <th>age</th>\n",
       "      <th>gender</th>\n",
       "      <th>city</th>\n",
       "      <th>text</th>\n",
       "      <th>comment</th>\n",
       "      <th>commentid</th>\n",
       "      <th>praise</th>\n",
       "      <th>date</th>\n",
       "    </tr>\n",
       "  </thead>\n",
       "  <tbody>\n",
       "    <tr>\n",
       "      <th>10556</th>\n",
       "      <td>kongruilog</td>\n",
       "      <td>601883322</td>\n",
       "      <td>无</td>\n",
       "      <td>1</td>\n",
       "      <td>武汉市</td>\n",
       "      <td>懵逼树上懵逼果，懵逼树下你和我</td>\n",
       "      <td>姗姗你好</td>\n",
       "      <td>628422445</td>\n",
       "      <td>2</td>\n",
       "      <td>2017/11/30 18:18</td>\n",
       "    </tr>\n",
       "    <tr>\n",
       "      <th>8420</th>\n",
       "      <td>3Tw0_0w</td>\n",
       "      <td>424252264</td>\n",
       "      <td>无</td>\n",
       "      <td>0</td>\n",
       "      <td>未知</td>\n",
       "      <td>dog bless</td>\n",
       "      <td>你是我年少的欢喜，亦是我年老的欢喜[爱心]</td>\n",
       "      <td>1232298005</td>\n",
       "      <td>0</td>\n",
       "      <td>2018/8/30 0:20</td>\n",
       "    </tr>\n",
       "    <tr>\n",
       "      <th>7273</th>\n",
       "      <td>July-Tse</td>\n",
       "      <td>404404224</td>\n",
       "      <td>无</td>\n",
       "      <td>2</td>\n",
       "      <td>未知</td>\n",
       "      <td>后来你没死，青春替你抵了命</td>\n",
       "      <td>安利宇宙最暖的栗漂亮</td>\n",
       "      <td>1420339100</td>\n",
       "      <td>3</td>\n",
       "      <td>2019/3/15 12:27</td>\n",
       "    </tr>\n",
       "    <tr>\n",
       "      <th>12841</th>\n",
       "      <td>柴荣先生</td>\n",
       "      <td>36619465</td>\n",
       "      <td>34</td>\n",
       "      <td>1</td>\n",
       "      <td>广州市</td>\n",
       "      <td>别固执到问一切为何</td>\n",
       "      <td>童话镇 游人间 淤青 …</td>\n",
       "      <td>250995896</td>\n",
       "      <td>1</td>\n",
       "      <td>2016/11/21 20:53</td>\n",
       "    </tr>\n",
       "    <tr>\n",
       "      <th>14507</th>\n",
       "      <td>软软迟迟mio</td>\n",
       "      <td>101078811</td>\n",
       "      <td>无</td>\n",
       "      <td>2</td>\n",
       "      <td>未知</td>\n",
       "      <td>沉默中</td>\n",
       "      <td>支持老公，支持陈粒</td>\n",
       "      <td>48359483</td>\n",
       "      <td>2</td>\n",
       "      <td>2015/11/21 21:37</td>\n",
       "    </tr>\n",
       "    <tr>\n",
       "      <th>3363</th>\n",
       "      <td>不再用时间去贩养梦</td>\n",
       "      <td>3290331833</td>\n",
       "      <td>无</td>\n",
       "      <td>0</td>\n",
       "      <td>未知</td>\n",
       "      <td>来日方长</td>\n",
       "      <td>出租车司机！！！冲！！！</td>\n",
       "      <td>5329768947</td>\n",
       "      <td>9</td>\n",
       "      <td>2021/6/11 17:35</td>\n",
       "    </tr>\n",
       "    <tr>\n",
       "      <th>6127</th>\n",
       "      <td>1000Cc_</td>\n",
       "      <td>480271247</td>\n",
       "      <td>无</td>\n",
       "      <td>1</td>\n",
       "      <td>未知</td>\n",
       "      <td>死于欲望</td>\n",
       "      <td>网易别把一手好牌打得稀巴烂吧，赚钱也要取之有道啊，看看榜一是个什么东西？</td>\n",
       "      <td>1617122965</td>\n",
       "      <td>12</td>\n",
       "      <td>2019/9/1 12:45</td>\n",
       "    </tr>\n",
       "    <tr>\n",
       "      <th>2010</th>\n",
       "      <td>今天还是不想睡觉吔</td>\n",
       "      <td>7808481617</td>\n",
       "      <td>15</td>\n",
       "      <td>1</td>\n",
       "      <td>未知</td>\n",
       "      <td>勾勾哒</td>\n",
       "      <td>大幻是有实力的（小光头狂喜）[色][色][色]</td>\n",
       "      <td>5804752903</td>\n",
       "      <td>1</td>\n",
       "      <td>2022/12/7 20:27</td>\n",
       "    </tr>\n",
       "    <tr>\n",
       "      <th>10214</th>\n",
       "      <td>亚xin</td>\n",
       "      <td>303933737</td>\n",
       "      <td>32</td>\n",
       "      <td>1</td>\n",
       "      <td>未知</td>\n",
       "      <td>枫</td>\n",
       "      <td>还没来吗？还没下课吗?</td>\n",
       "      <td>675790138</td>\n",
       "      <td>6</td>\n",
       "      <td>2018/1/18 9:44</td>\n",
       "    </tr>\n",
       "    <tr>\n",
       "      <th>12340</th>\n",
       "      <td>一颗甜柠檬via</td>\n",
       "      <td>315237705</td>\n",
       "      <td>无</td>\n",
       "      <td>2</td>\n",
       "      <td>未知</td>\n",
       "      <td>做人最重要的就是开心</td>\n",
       "      <td>推荐方磊[爱心]</td>\n",
       "      <td>304596091</td>\n",
       "      <td>1</td>\n",
       "      <td>2017/2/8 18:41</td>\n",
       "    </tr>\n",
       "  </tbody>\n",
       "</table>\n",
       "</div>"
      ],
      "text/plain": [
       "             name      userid age gender city             text  \\\n",
       "10556  kongruilog   601883322   无      1  武汉市  懵逼树上懵逼果，懵逼树下你和我   \n",
       "8420      3Tw0_0w   424252264   无      0   未知        dog bless   \n",
       "7273     July-Tse   404404224   无      2   未知    后来你没死，青春替你抵了命   \n",
       "12841        柴荣先生    36619465  34      1  广州市        别固执到问一切为何   \n",
       "14507     软软迟迟mio   101078811   无      2   未知              沉默中   \n",
       "3363    不再用时间去贩养梦  3290331833   无      0   未知             来日方长   \n",
       "6127      1000Cc_   480271247   无      1   未知             死于欲望   \n",
       "2010    今天还是不想睡觉吔  7808481617  15      1   未知              勾勾哒   \n",
       "10214        亚xin   303933737  32      1   未知                枫   \n",
       "12340    一颗甜柠檬via   315237705   无      2   未知       做人最重要的就是开心   \n",
       "\n",
       "                                    comment   commentid praise  \\\n",
       "10556                                  姗姗你好   628422445      2   \n",
       "8420                  你是我年少的欢喜，亦是我年老的欢喜[爱心]  1232298005      0   \n",
       "7273                             安利宇宙最暖的栗漂亮  1420339100      3   \n",
       "12841                          童话镇 游人间 淤青 …   250995896      1   \n",
       "14507                             支持老公，支持陈粒    48359483      2   \n",
       "3363                           出租车司机！！！冲！！！  5329768947      9   \n",
       "6127   网易别把一手好牌打得稀巴烂吧，赚钱也要取之有道啊，看看榜一是个什么东西？  1617122965     12   \n",
       "2010                大幻是有实力的（小光头狂喜）[色][色][色]  5804752903      1   \n",
       "10214                           还没来吗？还没下课吗?   675790138      6   \n",
       "12340                              推荐方磊[爱心]   304596091      1   \n",
       "\n",
       "                   date  \n",
       "10556  2017/11/30 18:18  \n",
       "8420     2018/8/30 0:20  \n",
       "7273    2019/3/15 12:27  \n",
       "12841  2016/11/21 20:53  \n",
       "14507  2015/11/21 21:37  \n",
       "3363    2021/6/11 17:35  \n",
       "6127     2019/9/1 12:45  \n",
       "2010    2022/12/7 20:27  \n",
       "10214    2018/1/18 9:44  \n",
       "12340    2017/2/8 18:41  "
      ]
     },
     "execution_count": 9,
     "metadata": {},
     "output_type": "execute_result"
    }
   ],
   "source": [
    "data.sample(10)#随机抽取10个查看"
   ]
  },
  {
   "cell_type": "code",
   "execution_count": null,
   "metadata": {},
   "outputs": [
    {
     "ename": "SyntaxError",
     "evalue": "invalid syntax (2196250274.py, line 3)",
     "output_type": "error",
     "traceback": [
      "\u001b[1;36m  Cell \u001b[1;32mIn[20], line 3\u001b[1;36m\u001b[0m\n\u001b[1;33m    pip install pyecharts\u001b[0m\n\u001b[1;37m        ^\u001b[0m\n\u001b[1;31mSyntaxError\u001b[0m\u001b[1;31m:\u001b[0m invalid syntax\n"
     ]
    }
   ],
   "source": [
    "#数据分析与可视化\n",
    "#评论用户的年龄分布"
   ]
  },
  {
   "cell_type": "code",
   "execution_count": 21,
   "metadata": {},
   "outputs": [
    {
     "name": "stdout",
     "output_type": "stream",
     "text": [
      "Requirement already satisfied: pyecharts in c:\\users\\mayuwen\\appdata\\local\\packages\\pythonsoftwarefoundation.python.3.11_qbz5n2kfra8p0\\localcache\\local-packages\\python311\\site-packages (2.0.7)Note: you may need to restart the kernel to use updated packages.\n"
     ]
    },
    {
     "name": "stderr",
     "output_type": "stream",
     "text": [
      "\n",
      "[notice] A new release of pip is available: 24.0 -> 24.3.1\n",
      "[notice] To update, run: C:\\Users\\mayuwen\\AppData\\Local\\Microsoft\\WindowsApps\\PythonSoftwareFoundation.Python.3.11_qbz5n2kfra8p0\\python.exe -m pip install --upgrade pip\n"
     ]
    },
    {
     "name": "stdout",
     "output_type": "stream",
     "text": [
      "\n",
      "Requirement already satisfied: jinja2 in c:\\users\\mayuwen\\appdata\\local\\packages\\pythonsoftwarefoundation.python.3.11_qbz5n2kfra8p0\\localcache\\local-packages\\python311\\site-packages (from pyecharts) (3.1.4)\n",
      "Requirement already satisfied: prettytable in c:\\users\\mayuwen\\appdata\\local\\packages\\pythonsoftwarefoundation.python.3.11_qbz5n2kfra8p0\\localcache\\local-packages\\python311\\site-packages (from pyecharts) (3.12.0)\n",
      "Requirement already satisfied: simplejson in c:\\users\\mayuwen\\appdata\\local\\packages\\pythonsoftwarefoundation.python.3.11_qbz5n2kfra8p0\\localcache\\local-packages\\python311\\site-packages (from pyecharts) (3.19.3)\n",
      "Requirement already satisfied: MarkupSafe>=2.0 in c:\\users\\mayuwen\\appdata\\local\\packages\\pythonsoftwarefoundation.python.3.11_qbz5n2kfra8p0\\localcache\\local-packages\\python311\\site-packages (from jinja2->pyecharts) (3.0.2)\n",
      "Requirement already satisfied: wcwidth in c:\\users\\mayuwen\\appdata\\local\\packages\\pythonsoftwarefoundation.python.3.11_qbz5n2kfra8p0\\localcache\\local-packages\\python311\\site-packages (from prettytable->pyecharts) (0.2.13)\n"
     ]
    }
   ],
   "source": [
    "pip install pyecharts"
   ]
  },
  {
   "cell_type": "code",
   "execution_count": 22,
   "metadata": {},
   "outputs": [
    {
     "name": "stdout",
     "output_type": "stream",
     "text": [
      "Name: pyechartsNote: you may need to restart the kernel to use updated packages.\n",
      "\n",
      "Version: 2.0.7\n",
      "Summary: Python options, make charting easier\n",
      "Home-page: https://github.com/pyecharts/pyecharts\n",
      "Author: chenjiandongx\n",
      "Author-email: chenjiandongx@qq.com\n",
      "License: MIT\n",
      "Location: C:\\Users\\mayuwen\\AppData\\Local\\Packages\\PythonSoftwareFoundation.Python.3.11_qbz5n2kfra8p0\\LocalCache\\local-packages\\Python311\\site-packages\n",
      "Requires: jinja2, prettytable, simplejson\n",
      "Required-by: \n"
     ]
    }
   ],
   "source": [
    "pip show pyecharts"
   ]
  },
  {
   "cell_type": "code",
   "execution_count": 24,
   "metadata": {},
   "outputs": [],
   "source": [
    "from pyecharts.charts import Pie"
   ]
  },
  {
   "cell_type": "code",
   "execution_count": 25,
   "metadata": {},
   "outputs": [],
   "source": [
    "#读取数据\n",
    "data=pd.read_csv('c:/Users/mayuwen/Documents/WeChat Files/wxid_a1n9lss309c222/FileStorage/File/2024-11/comments_data.csv',header=None,names=['name','userid','age','gender','city','text','comment','commentid','praise','date'],encoding='utf-8-sig')"
   ]
  },
  {
   "cell_type": "code",
   "execution_count": 26,
   "metadata": {},
   "outputs": [],
   "source": [
    "#去除无性别信息的\n",
    "data=data[data.gender !=0]\n",
    "data=data[data.gender !=3]"
   ]
  },
  {
   "cell_type": "code",
   "execution_count": 31,
   "metadata": {},
   "outputs": [],
   "source": [
    "from pyecharts import options as opts\n",
    "from pyecharts.charts import Pie"
   ]
  },
  {
   "cell_type": "code",
   "execution_count": 36,
   "metadata": {},
   "outputs": [
    {
     "data": {
      "text/plain": [
       "'e:\\\\Microsoft VS Code\\\\评论用户的性别情况.html'"
      ]
     },
     "execution_count": 36,
     "metadata": {},
     "output_type": "execute_result"
    }
   ],
   "source": [
    "#分组汇总\n",
    "gender_message=data.groupby(['gender'])\n",
    "gender_com=gender_message['gender'].agg(['count'])\n",
    "gender_com.reset_index(inplace=True)\n",
    "attr=['男','女']\n",
    "v1=gender_com['count']\n",
    "v1=v1[1:3]\n",
    "pie = (\n",
    "    Pie()\n",
    "    .add(\"\", [list(z) for z in zip(attr, v1)], radius=[40, 75], label_opts=opts.LabelOpts(is_show=True,formatter=\"{b}:{d}%\"))\n",
    "    .set_global_opts(title_opts=opts.TitleOpts(title=\"评论用户的性别情况\", pos_left='center', pos_top='10%'),\n",
    "                     legend_opts=opts.LegendOpts(orient=\"vertical\", pos_left=\"left\", pos_top=\"10%\"))\n",
    ")\n",
    "pie.render(\"评论用户的性别情况.html\")"
   ]
  },
  {
   "cell_type": "code",
   "execution_count": 38,
   "metadata": {},
   "outputs": [],
   "source": [
    "#评论歌曲日期分布\n",
    "import pandas as pd\n",
    "from pyecharts.charts import Line\n",
    "import webbrowser"
   ]
  },
  {
   "cell_type": "code",
   "execution_count": 39,
   "metadata": {},
   "outputs": [],
   "source": [
    "#读取数据\n",
    "data=pd.read_csv('c:/Users/mayuwen/Documents/WeChat Files/wxid_a1n9lss309c222/FileStorage/File/2024-11/comments_data.csv',header=None,names=['name','userid','age','gender','city','text','comment','commentid','praise','date'],encoding='utf-8-sig')"
   ]
  },
  {
   "cell_type": "code",
   "execution_count": 82,
   "metadata": {},
   "outputs": [],
   "source": [
    "#获取评论日期\n",
    "data['time']=data['date'].str.split('',expand=True)[0]"
   ]
  },
  {
   "cell_type": "code",
   "execution_count": 83,
   "metadata": {},
   "outputs": [],
   "source": [
    "#分组汇总\n",
    "date_message = data.groupby(['time'])\n",
    "date_com = date_message['time'].agg(['count']).reset_index()"
   ]
  },
  {
   "cell_type": "code",
   "execution_count": 84,
   "metadata": {},
   "outputs": [
    {
     "data": {
      "text/plain": [
       "'e:\\\\Microsoft VS Code\\\\近期歌曲评论的日期分布.html'"
      ]
     },
     "execution_count": 84,
     "metadata": {},
     "output_type": "execute_result"
    }
   ],
   "source": [
    "# 绘制走势图\n",
    "atte = date_com['time'].tolist()\n",
    "v1 = date_com['count'].tolist()\n",
    "\n",
    "# 创建折线图\n",
    "line = Line()\n",
    "line.add_xaxis(atte)  # 设置 X 轴\n",
    "line.add_yaxis(\"评论数量\", v1, is_smooth=True, \n",
    "                markpoint_opts=opts.MarkPointOpts(data=[opts.MarkPointItem(type_=\"max\")])) \n",
    "\n",
    "# 设置全局选项\n",
    "line.set_global_opts(\n",
    "    title_opts=opts.TitleOpts(title=\"近期歌曲评论的日期分布\", pos_left='center', pos_top='18%'),\n",
    "    xaxis_opts=opts.AxisOpts(name=\"时间\"),\n",
    "    yaxis_opts=opts.AxisOpts(name=\"评论数量\")\n",
    ")\n",
    "\n",
    "# 渲染图表\n",
    "line.render(\"近期歌曲评论的日期分布.html\")"
   ]
  },
  {
   "cell_type": "code",
   "execution_count": 52,
   "metadata": {},
   "outputs": [],
   "source": [
    "#评论用户年龄分布\n",
    "import pandas as pd"
   ]
  },
  {
   "cell_type": "code",
   "execution_count": 53,
   "metadata": {},
   "outputs": [],
   "source": [
    "from pyecharts.charts import Bar"
   ]
  },
  {
   "cell_type": "code",
   "execution_count": 64,
   "metadata": {},
   "outputs": [],
   "source": [
    "from pyecharts import options as opts"
   ]
  },
  {
   "cell_type": "code",
   "execution_count": 54,
   "metadata": {},
   "outputs": [],
   "source": [
    "#读取数据\n",
    "data=pd.read_csv('c:/Users/mayuwen/Documents/WeChat Files/wxid_a1n9lss309c222/FileStorage/File/2024-11/comments_data.csv',header=None,names=['name','userid','age','gender','city','text','comment','commentid','praise','date'],encoding='utf-8-sig')"
   ]
  },
  {
   "cell_type": "code",
   "execution_count": 55,
   "metadata": {},
   "outputs": [],
   "source": [
    "#根据评论ID去重\n",
    "data=data.drop_duplicates('commentid')"
   ]
  },
  {
   "cell_type": "code",
   "execution_count": 56,
   "metadata": {},
   "outputs": [],
   "source": [
    "#去除无年龄信息的\n",
    "data=data[data.age !=0]"
   ]
  },
  {
   "cell_type": "code",
   "execution_count": 57,
   "metadata": {},
   "outputs": [],
   "source": [
    "#转换格式\n",
    "data['age']=pd.to_numeric(data['age'],errors='coerce')\n",
    "data=data.replace([0,1],[18,20])"
   ]
  },
  {
   "cell_type": "code",
   "execution_count": 59,
   "metadata": {},
   "outputs": [],
   "source": [
    "#分组汇总\n",
    "age_message=data.groupby(['age'])\n",
    "age_com=age_message['age'].agg(['count'])\n",
    "age_com.reset_index(inplace=True)"
   ]
  },
  {
   "cell_type": "code",
   "execution_count": 68,
   "metadata": {},
   "outputs": [
    {
     "data": {
      "text/plain": [
       "'e:\\\\Microsoft VS Code\\\\评论用户的年龄分布.html'"
      ]
     },
     "execution_count": 68,
     "metadata": {},
     "output_type": "execute_result"
    }
   ],
   "source": [
    "#生成柱状图\n",
    "attr=age_com['age'].tolist()#将series转换为列表\n",
    "v1=age_com['count'].tolist()\n",
    "bar=Bar()\n",
    "bar.add_xaxis(attr)#设置x轴\n",
    "bar.add_yaxis(\"评论人数\",v1,stack=\"stack1\")\n",
    "bar.set_global_opts(\n",
    "    title_opts=opts.TitleOpts(title=\"评论用户年龄分布\",pos_left='center',pos_top='18%'),\n",
    "    xaxis_opts=opts.AxisOpts(name='年龄'),\n",
    "    yaxis_opts=opts.AxisOpts(name='人数')\n",
    ")\n",
    "bar.render(\"评论用户的年龄分布.html\")"
   ]
  }
 ],
 "metadata": {
  "kernelspec": {
   "display_name": "Python 3",
   "language": "python",
   "name": "python3"
  },
  "language_info": {
   "codemirror_mode": {
    "name": "ipython",
    "version": 3
   },
   "file_extension": ".py",
   "mimetype": "text/x-python",
   "name": "python",
   "nbconvert_exporter": "python",
   "pygments_lexer": "ipython3",
   "version": "3.11.9"
  }
 },
 "nbformat": 4,
 "nbformat_minor": 2
}
