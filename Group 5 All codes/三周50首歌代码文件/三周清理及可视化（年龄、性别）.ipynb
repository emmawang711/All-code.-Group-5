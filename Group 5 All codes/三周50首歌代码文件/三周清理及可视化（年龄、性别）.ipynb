{
 "cells": [
  {
   "cell_type": "code",
   "execution_count": 1,
   "id": "f7befac6-f2ed-4479-b10b-cdcccea7c1a4",
   "metadata": {},
   "outputs": [],
   "source": [
    "#数据清理\n",
    "import pandas as pd"
   ]
  },
  {
   "cell_type": "code",
   "execution_count": 3,
   "id": "f95a479a-bd19-4abf-bbe4-63def8b6b9e4",
   "metadata": {},
   "outputs": [],
   "source": [
    "import pandas as pd\n",
    "\n",
    "# 读取Excel文件\n",
    "df = pd.read_excel('数据文件/三周汇总数据.xlsx', sheet_name='总表')\n",
    "\n",
    "# 去除重复的ID\n",
    "df = df.drop_duplicates(subset='user_id')\n",
    "\n",
    "# 去除无年龄信息的记录\n",
    "df = df.dropna(subset=['age'])\n",
    "\n",
    "# 保存清理后的数据到新的Excel文件\n",
    "df.to_excel('清理后的数据.xlsx', index=False)"
   ]
  },
  {
   "cell_type": "code",
   "execution_count": 7,
   "id": "4af826f8-3c60-465c-9227-3f3daf8c170a",
   "metadata": {},
   "outputs": [
    {
     "name": "stdout",
     "output_type": "stream",
     "text": [
      "工作表名称列表： ['Sheet1']\n"
     ]
    }
   ],
   "source": [
    "import pandas as pd\n",
    "\n",
    "# 读取Excel文件\n",
    "excel_file = '三周清理后的数据(年龄).xlsx'\n",
    "\n",
    "# 获取所有工作表的名称\n",
    "xls = pd.ExcelFile(excel_file)\n",
    "sheet_names = xls.sheet_names\n",
    "\n",
    "# 打印所有工作表的名称\n",
    "print(\"工作表名称列表：\", sheet_names)\n",
    "\n",
    "# 选择正确的工作表名称\n",
    "correct_sheet_name = sheet_names[0]  # 假设我们选择第一个工作表\n",
    "\n",
    "# 使用正确的工作表名称读取数据\n",
    "df = pd.read_excel(excel_file, sheet_name=correct_sheet_name)"
   ]
  },
  {
   "cell_type": "code",
   "execution_count": 8,
   "id": "4f5d8141-dc06-48f0-bcce-4ef14fbc25bb",
   "metadata": {},
   "outputs": [
    {
     "data": {
      "text/plain": [
       "'C:\\\\Users\\\\XiLeo\\\\评论用户的年龄分布.html'"
      ]
     },
     "execution_count": 8,
     "metadata": {},
     "output_type": "execute_result"
    }
   ],
   "source": [
    "import pandas as pd\n",
    "from pyecharts.charts import Bar\n",
    "from pyecharts import options as opts\n",
    "\n",
    "# 读取Excel文件\n",
    "df = pd.read_excel('三周清理后的数据(年龄).xlsx', sheet_name='Sheet1')\n",
    "\n",
    "# 将年龄和对应的用户数量计算出来\n",
    "age_com = df['age'].value_counts().reset_index()\n",
    "age_com.columns = ['age', 'count']\n",
    "\n",
    "# 生成柱状图\n",
    "attr = age_com['age'].tolist()  # 将series转换为列表\n",
    "v1 = age_com['count'].tolist()\n",
    "\n",
    "bar = Bar()\n",
    "bar.add_xaxis(attr)  # 设置x轴\n",
    "bar.add_yaxis(\"评论人数\", v1, stack=\"stack1\")\n",
    "bar.set_global_opts(\n",
    "    title_opts=opts.TitleOpts(title=\"评论用户年龄分布\", pos_left='center', pos_top='18%'),\n",
    "    xaxis_opts=opts.AxisOpts(name='年龄'),\n",
    "    yaxis_opts=opts.AxisOpts(name='人数')\n",
    ")\n",
    "bar.render(\"评论用户的年龄分布.html\")"
   ]
  },
  {
   "cell_type": "code",
   "execution_count": 16,
   "id": "59194a5d-cfc3-4de2-ac40-43e74f88abdb",
   "metadata": {},
   "outputs": [
    {
     "data": {
      "text/plain": [
       "'C:\\\\Users\\\\XiLeo\\\\评论用户的年龄分布.html'"
      ]
     },
     "execution_count": 16,
     "metadata": {},
     "output_type": "execute_result"
    }
   ],
   "source": [
    "import pandas as pd\n",
    "from pyecharts.charts import Bar\n",
    "from pyecharts import options as opts\n",
    "\n",
    "# 读取Excel文件\n",
    "df = pd.read_excel('三周清理后的数据(年龄).xlsx', sheet_name='Sheet1')\n",
    "\n",
    "# 将年龄和对应的用户数量计算出来\n",
    "age_com = df['age'].value_counts().reset_index()\n",
    "age_com.columns = ['age', 'count']\n",
    "\n",
    "# 生成柱状图\n",
    "attr = age_com['age'].tolist()  # 将series转换为列表\n",
    "v1 = age_com['count'].tolist()\n",
    "\n",
    "bar = Bar()\n",
    "bar.add_xaxis(attr)  # 设置x轴\n",
    "bar.add_yaxis(\"评论人数\", v1, stack=\"stack1\")\n",
    "bar.set_global_opts(\n",
    "    title_opts=opts.TitleOpts(title=\"评论用户年龄分布\", pos_left='center', pos_top='18%'),\n",
    "    xaxis_opts=opts.AxisOpts(name='年龄'),\n",
    "    yaxis_opts=opts.AxisOpts(name='人数')\n",
    ")\n",
    "bar.render(\"评论用户的年龄分布.html\")"
   ]
  },
  {
   "cell_type": "code",
   "execution_count": 19,
   "id": "3eabfcec-d0a3-4001-8ea2-1478d0e9eb2f",
   "metadata": {},
   "outputs": [],
   "source": [
    "import pandas as pd\n",
    "\n",
    "# 读取Excel文件\n",
    "df = pd.read_excel('数据文件/三周汇总数据.xlsx', sheet_name='总表')\n",
    "\n",
    "# 去除重复的ID\n",
    "df = df.drop_duplicates(subset='user_id')\n",
    "\n",
    "# 去除无年龄信息的记录\n",
    "df = df.dropna(subset=['age'])\n",
    "\n",
    "# 清洗年龄列，只保留可以转换为整数的值\n",
    "df['age'] = pd.to_numeric(df['age'], errors='coerce')\n",
    "\n",
    "# 去除年龄列中转换后为NaN的值（即无法转换为数字的值）\n",
    "df = df.dropna(subset=['age'])\n",
    "\n",
    "# 去除年龄小于10岁和大于55岁的记录\n",
    "df = df[(df['age'] >= 10) & (df['age'] <= 55)]\n",
    "\n",
    "# 保存清理后的数据到新的Excel文件\n",
    "df.to_excel('清理后的数据.xlsx', index=False)"
   ]
  },
  {
   "cell_type": "code",
   "execution_count": 21,
   "id": "005dd2c5-6040-4dc1-ba0c-5984b93e0fc9",
   "metadata": {},
   "outputs": [
    {
     "data": {
      "text/plain": [
       "'C:\\\\Users\\\\XiLeo\\\\评论用户的年龄分布1.html'"
      ]
     },
     "execution_count": 21,
     "metadata": {},
     "output_type": "execute_result"
    }
   ],
   "source": [
    "import pandas as pd\n",
    "from pyecharts.charts import Bar\n",
    "from pyecharts import options as opts\n",
    "\n",
    "# 读取Excel文件\n",
    "df = pd.read_excel('清理后的数据.xlsx', sheet_name='Sheet1')\n",
    "\n",
    "# 将年龄和对应的用户数量计算出来\n",
    "age_com = df['age'].value_counts().reset_index()\n",
    "age_com.columns = ['age', 'count']\n",
    "\n",
    "# 按照年龄递增顺序排序\n",
    "age_com = age_com.sort_values(by='age')\n",
    "\n",
    "# 生成柱状图\n",
    "attr = age_com['age'].tolist()  # 将年龄转换为列表\n",
    "v1 = age_com['count'].tolist()  # 将用户数量转换为列表\n",
    "\n",
    "bar = Bar()\n",
    "bar.add_xaxis(attr)  # 设置x轴\n",
    "bar.add_yaxis(\"评论人数\", v1, stack=\"stack1\")\n",
    "bar.set_global_opts(\n",
    "    title_opts=opts.TitleOpts(title=\"评论用户年龄分布\", pos_left='center', pos_top='18%'),\n",
    "    xaxis_opts=opts.AxisOpts(name='年龄'),\n",
    "    yaxis_opts=opts.AxisOpts(name='人数')\n",
    ")\n",
    "bar.render(\"评论用户的年龄分布1.html\")"
   ]
  },
  {
   "cell_type": "code",
   "execution_count": 23,
   "id": "87d1156d-b8b8-4394-bbab-82550a2abfa4",
   "metadata": {},
   "outputs": [],
   "source": [
    "import pandas as pd\n",
    "\n",
    "# 读取Excel文件\n",
    "df = pd.read_excel('数据文件/三周汇总数据.xlsx', sheet_name='总表')\n",
    "\n",
    "# 去除重复的ID\n",
    "df = df.drop_duplicates(subset='user_id')\n",
    "\n",
    "# 去除无性别信息的记录\n",
    "df = df[df['gender'] != 0]\n",
    "df = df[df['gender'] != 3]\n",
    "\n",
    "# 保存清理后的数据到新的Excel文件\n",
    "df.to_excel('三周清理后的数据（性别）.xlsx', index=False)"
   ]
  },
  {
   "cell_type": "code",
   "execution_count": 26,
   "id": "5ba2242a-7f98-4f5d-93a3-9d404ce52e78",
   "metadata": {},
   "outputs": [
    {
     "data": {
      "text/plain": [
       "'C:\\\\Users\\\\XiLeo\\\\评论用户的性别情况.html'"
      ]
     },
     "execution_count": 26,
     "metadata": {},
     "output_type": "execute_result"
    }
   ],
   "source": [
    "import pandas as pd\n",
    "from pyecharts.charts import Pie\n",
    "from pyecharts import options as opts\n",
    "\n",
    "# 读取Excel文件\n",
    "df = pd.read_excel('数据文件/三周汇总数据.xlsx', sheet_name='总表')\n",
    "\n",
    "# 去除重复的ID\n",
    "df = df.drop_duplicates(subset='user_id')\n",
    "\n",
    "# 去除无性别信息的记录\n",
    "df = df[df['gender'] != 0]\n",
    "df = df[df['gender'] != 3]\n",
    "\n",
    "# 确保gender列只包含数值类型，非数值类型将被转换为NaN\n",
    "df['gender'] = pd.to_numeric(df['gender'], errors='coerce')\n",
    "\n",
    "# 去除无性别信息的记录（这里假设NaN代表没有性别信息）\n",
    "df = df.dropna(subset=['gender'])\n",
    "\n",
    "# 分组汇总\n",
    "gender_message = df.groupby(['gender'])\n",
    "gender_com = gender_message['gender'].agg(['count'])\n",
    "gender_com.reset_index(inplace=True)\n",
    "\n",
    "# 假设性别字段中1代表男性，2代表女性\n",
    "attr = ['男', '女']\n",
    "v1 = gender_com['count'].values\n",
    "\n",
    "# 创建饼图\n",
    "pie = (\n",
    "    Pie()\n",
    "    .add(\"\", [list(z) for z in zip(attr, v1)], radius=[40, 75], label_opts=opts.LabelOpts(is_show=True, formatter=\"{b}:{d}%\"))\n",
    "    .set_global_opts(title_opts=opts.TitleOpts(title=\"评论用户的性别情况\", pos_left='center', pos_top='10%'),\n",
    "                     legend_opts=opts.LegendOpts(orient=\"vertical\", pos_left=\"left\", pos_top=\"10%\"))\n",
    ")\n",
    "pie.render(\"评论用户的性别情况.html\")"
   ]
  },
  {
   "cell_type": "code",
   "execution_count": 27,
   "id": "a03e11be-7247-4fc7-926c-330c12fc27e9",
   "metadata": {},
   "outputs": [
    {
     "data": {
      "text/plain": [
       "'C:\\\\Users\\\\XiLeo\\\\测试性别情况.html'"
      ]
     },
     "execution_count": 27,
     "metadata": {},
     "output_type": "execute_result"
    }
   ],
   "source": [
    "from pyecharts.charts import Pie\n",
    "from pyecharts import options as opts\n",
    "\n",
    "# 假设数据\n",
    "attr = ['男', '女']\n",
    "v1 = [60, 40]  # 假设男性60人，女性40人\n",
    "\n",
    "# 创建饼图\n",
    "pie = (\n",
    "    Pie()\n",
    "    .add(\"\", [list(z) for z in zip(attr, v1)], radius=[40, 75], label_opts=opts.LabelOpts(is_show=True, formatter=\"{b}:{d}%\"))\n",
    "    .set_global_opts(title_opts=opts.TitleOpts(title=\"评论用户的性别情况\", pos_left='center', pos_top='10%'),\n",
    "                     legend_opts=opts.LegendOpts(orient=\"vertical\", pos_left=\"left\", pos_top=\"10%\"))\n",
    ")\n",
    "pie.render(\"测试性别情况.html\")"
   ]
  },
  {
   "cell_type": "code",
   "execution_count": 28,
   "id": "f8c656c6-9874-49f8-a728-615e37c11e11",
   "metadata": {},
   "outputs": [
    {
     "name": "stdout",
     "output_type": "stream",
     "text": [
      "    gender  count\n",
      "0      0.0  23204\n",
      "1      1.0   6241\n",
      "2      2.0   7625\n",
      "3      3.0     15\n",
      "4      4.0     29\n",
      "5      5.0     41\n",
      "6      6.0    102\n",
      "7      7.0    165\n",
      "8      8.0    343\n",
      "9      9.0    454\n",
      "10    10.0    563\n",
      "11    11.0    771\n",
      "12    12.0    997\n",
      "13    13.0   1291\n",
      "14    14.0   1399\n",
      "15    15.0   1160\n",
      "16    16.0   1052\n",
      "17    17.0    866\n",
      "18    18.0    965\n",
      "19    19.0    521\n",
      "20    20.0    421\n",
      "21    21.0    335\n",
      "22    22.0    270\n",
      "23    23.0    212\n",
      "24    24.0    179\n",
      "25    25.0    133\n",
      "26    26.0    157\n",
      "27    27.0    111\n",
      "28    28.0    424\n",
      "29    29.0     94\n",
      "30    30.0     90\n",
      "31    31.0     71\n",
      "32    32.0     71\n",
      "33    33.0     68\n",
      "34    34.0     65\n",
      "35    35.0     51\n",
      "36    36.0     50\n",
      "37    37.0     62\n",
      "38    38.0     54\n",
      "39    39.0      5\n",
      "40    40.0      4\n",
      "41    41.0      5\n",
      "42    42.0      3\n",
      "43    43.0      2\n",
      "44    44.0      2\n",
      "45    45.0      5\n",
      "46    46.0      1\n",
      "47    47.0      1\n",
      "48    48.0     69\n"
     ]
    },
    {
     "data": {
      "text/plain": [
       "'C:\\\\Users\\\\XiLeo\\\\评论用户的性别情况.html'"
      ]
     },
     "execution_count": 28,
     "metadata": {},
     "output_type": "execute_result"
    }
   ],
   "source": [
    "import pandas as pd\n",
    "from pyecharts.charts import Pie\n",
    "from pyecharts import options as opts\n",
    "\n",
    "# 读取Excel文件\n",
    "df = pd.read_excel('数据文件/三周汇总数据.xlsx', sheet_name='总表')\n",
    "\n",
    "# 去除重复的ID\n",
    "df = df.drop_duplicates(subset='user_id')\n",
    "\n",
    "# 确保gender列只包含数值类型，非数值类型将被转换为NaN\n",
    "df['gender'] = pd.to_numeric(df['gender'], errors='coerce')\n",
    "\n",
    "# 去除无性别信息的记录（这里假设NaN代表没有性别信息）\n",
    "df = df.dropna(subset=['gender'])\n",
    "\n",
    "# 分组汇总\n",
    "gender_message = df.groupby(['gender'])\n",
    "gender_com = gender_message['gender'].agg(['count'])\n",
    "gender_com.reset_index(inplace=True)\n",
    "\n",
    "# 检查gender_com数据\n",
    "print(gender_com)\n",
    "\n",
    "# 假设性别字段中1代表男性，2代表女性\n",
    "attr = ['男', '女']\n",
    "v1 = []\n",
    "\n",
    "# 根据gender_com数据生成v1列表\n",
    "for i in range(1, 3):  # 假设性别只有1和2两种\n",
    "    v1.append(gender_com[gender_com['gender'] == i]['count'].values[0] if not gender_com[gender_com['gender'] == i].empty else 0)\n",
    "\n",
    "# 创建饼图\n",
    "pie = (\n",
    "    Pie()\n",
    "    .add(\"\", [list(z) for z in zip(attr, v1)], radius=[40, 75], label_opts=opts.LabelOpts(is_show=True, formatter=\"{b}:{d}%\"))\n",
    "    .set_global_opts(title_opts=opts.TitleOpts(title=\"评论用户的性别情况\", pos_left='center', pos_top='10%'),\n",
    "                     legend_opts=opts.LegendOpts(orient=\"vertical\", pos_left=\"left\", pos_top=\"10%\"))\n",
    ")\n",
    "pie.render(\"评论用户的性别情况.html\")"
   ]
  },
  {
   "cell_type": "code",
   "execution_count": 30,
   "id": "f1d7ddb3-4b37-4e8d-ad66-ee2d2056782b",
   "metadata": {},
   "outputs": [],
   "source": [
    "import pandas as pd\n",
    "\n",
    "# 读取Excel文件\n",
    "df = pd.read_excel('三周清理后的数据（性别）.xlsx')\n",
    "\n",
    "# 过滤出性别为1和2的行\n",
    "cleaned_df = df[df['gender'].isin([1, 2])]\n",
    "\n",
    "# 保存清理后的数据到新的Excel文件\n",
    "cleaned_df.to_excel('清理后的数据.xlsx', index=False)"
   ]
  },
  {
   "cell_type": "code",
   "execution_count": 32,
   "id": "751a833e-0f47-4f85-9efd-090c1ad826d5",
   "metadata": {},
   "outputs": [
    {
     "data": {
      "text/plain": [
       "'C:\\\\Users\\\\XiLeo\\\\用户的性别情况.html'"
      ]
     },
     "execution_count": 32,
     "metadata": {},
     "output_type": "execute_result"
    }
   ],
   "source": [
    "import pandas as pd\n",
    "from pyecharts.charts import Pie\n",
    "from pyecharts import options as opts\n",
    "\n",
    "# 读取Excel文件\n",
    "df = pd.read_excel('清理后的数据.xlsx')\n",
    "\n",
    "# 假设gender字段中1代表男性，2代表女性\n",
    "attr = ['男', '女']\n",
    "# 计数男性和女性的数量\n",
    "male_count = df[df['gender'] == 1].shape[0]\n",
    "female_count = df[df['gender'] == 2].shape[0]\n",
    "\n",
    "v1 = [male_count, female_count]\n",
    "\n",
    "# 创建饼图\n",
    "pie = (\n",
    "    Pie()\n",
    "    .add(\"\", [list(z) for z in zip(attr, v1)], radius=[40, 75], label_opts=opts.LabelOpts(is_show=True, formatter=\"{b}:{d}%\"))\n",
    "    .set_global_opts(title_opts=opts.TitleOpts(title=\"用户的性别情况\", pos_left='center', pos_top='10%'),\n",
    "                     legend_opts=opts.LegendOpts(orient=\"vertical\", pos_left=\"left\", pos_top=\"10%\"))\n",
    ")\n",
    "# 渲染成HTML文件\n",
    "pie.render(\"用户的性别情况.html\")"
   ]
  },
  {
   "cell_type": "code",
   "execution_count": null,
   "id": "771f5b34-16d6-4e03-b222-680d2d62518d",
   "metadata": {},
   "outputs": [],
   "source": []
  }
 ],
 "metadata": {
  "kernelspec": {
   "display_name": "Python 3 (ipykernel)",
   "language": "python",
   "name": "python3"
  },
  "language_info": {
   "codemirror_mode": {
    "name": "ipython",
    "version": 3
   },
   "file_extension": ".py",
   "mimetype": "text/x-python",
   "name": "python",
   "nbconvert_exporter": "python",
   "pygments_lexer": "ipython3",
   "version": "3.12.4"
  }
 },
 "nbformat": 4,
 "nbformat_minor": 5
}
